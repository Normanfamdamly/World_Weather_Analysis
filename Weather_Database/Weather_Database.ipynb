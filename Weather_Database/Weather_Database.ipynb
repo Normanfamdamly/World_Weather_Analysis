{
 "cells": [
  {
   "cell_type": "code",
   "execution_count": null,
   "id": "b32ddd30",
   "metadata": {},
   "outputs": [],
   "source": [
    "# Import Depedencies\n",
    "\n",
    "# 2 Create a new set of 2,000 random latitudes and longitudes.\n",
    "\n",
    "# 3 Get the nearest city using the citipy module.\n",
    "\n",
    "# 4 Perform an API call with the OpenWeatherMap.\n",
    "\n",
    "# 5 Retrieve the following information from the API call:\n",
    "\n",
    "        # Latitude and longitude\n",
    "        # Maximum temperature\n",
    "        # Percent humidity\n",
    "        # Percent cloudiness\n",
    "        # Wind speed\n",
    "        # Weather description (for example, clouds, fog, light rain, clear sky)\n",
    "\n",
    "# 6 Add the data to a new DataFrame.Before exporting your new DataFrame as a CSV file, take a moment to confirm that it looks similar to the image below:\n",
    "\n",
    "# 7 Export the DataFrame as a CSV file, and save it as WeatherPy_Database.csv in the Weather_Database folder."
   ]
  }
 ],
 "metadata": {
  "kernelspec": {
   "display_name": "PythonData",
   "language": "python",
   "name": "pythondata"
  },
  "language_info": {
   "codemirror_mode": {
    "name": "ipython",
    "version": 3
   },
   "file_extension": ".py",
   "mimetype": "text/x-python",
   "name": "python",
   "nbconvert_exporter": "python",
   "pygments_lexer": "ipython3",
   "version": "3.7.13"
  }
 },
 "nbformat": 4,
 "nbformat_minor": 5
}
